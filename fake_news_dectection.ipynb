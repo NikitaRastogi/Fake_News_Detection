{
 "cells": [
  {
   "cell_type": "markdown",
   "id": "9f8e9b8e",
   "metadata": {},
   "source": [
    "Install Packages"
   ]
  },
  {
   "cell_type": "code",
   "execution_count": 29,
   "id": "7021c5dc",
   "metadata": {},
   "outputs": [],
   "source": [
    "import sys\n",
    "import pandas as pd\n",
    "import random\n",
    "random.seed(10)\n",
    "from spacy.lang.en import English\n",
    "from spacy.lang.en.stop_words import STOP_WORDS\n",
    "import en_core_web_sm\n",
    "from sklearn.model_selection import train_test_split\n",
    "from sklearn.feature_extraction.text import TfidfVectorizer\n",
    "from sklearn.pipeline import Pipeline\n",
    "from sklearn.ensemble import RandomForestClassifier\n",
    "from sklearn.metrics import accuracy_score, confusion_matrix, classification_report\n"
   ]
  },
  {
   "cell_type": "code",
   "execution_count": 12,
   "id": "ba536b3d",
   "metadata": {},
   "outputs": [
    {
     "name": "stdout",
     "output_type": "stream",
     "text": [
      "['C:\\\\Python3\\\\python38.zip', 'C:\\\\Python3\\\\DLLs', 'C:\\\\Python3\\\\lib', 'C:\\\\Python3', 'd:\\\\Fake_News_Detection\\\\venv', '', 'd:\\\\Fake_News_Detection\\\\venv\\\\lib\\\\site-packages', 'd:\\\\Fake_News_Detection\\\\venv\\\\lib\\\\site-packages\\\\win32', 'd:\\\\Fake_News_Detection\\\\venv\\\\lib\\\\site-packages\\\\win32\\\\lib', 'd:\\\\Fake_News_Detection\\\\venv\\\\lib\\\\site-packages\\\\Pythonwin', 'D:\\\\Fake_News_Detection', 'D:\\\\Fake_News_Detection']\n"
     ]
    }
   ],
   "source": [
    "sys.path.append(\"D:\\Fake_News_Detection\")\n",
    "print(sys.path)"
   ]
  },
  {
   "cell_type": "markdown",
   "id": "5f4cc49a",
   "metadata": {},
   "source": [
    "Download the dataset from Kaggle and load "
   ]
  },
  {
   "cell_type": "code",
   "execution_count": 13,
   "id": "cc152b54",
   "metadata": {},
   "outputs": [],
   "source": [
    "fake_csv = pd.read_csv(\".\\dataset\\Fake.csv\")\n",
    "true_csv = pd.read_csv(\".\\dataset\\True.csv\")"
   ]
  },
  {
   "cell_type": "code",
   "execution_count": 14,
   "id": "dd94424a",
   "metadata": {},
   "outputs": [
    {
     "data": {
      "text/html": [
       "<div>\n",
       "<style scoped>\n",
       "    .dataframe tbody tr th:only-of-type {\n",
       "        vertical-align: middle;\n",
       "    }\n",
       "\n",
       "    .dataframe tbody tr th {\n",
       "        vertical-align: top;\n",
       "    }\n",
       "\n",
       "    .dataframe thead th {\n",
       "        text-align: right;\n",
       "    }\n",
       "</style>\n",
       "<table border=\"1\" class=\"dataframe\">\n",
       "  <thead>\n",
       "    <tr style=\"text-align: right;\">\n",
       "      <th></th>\n",
       "      <th>title</th>\n",
       "      <th>text</th>\n",
       "      <th>subject</th>\n",
       "      <th>date</th>\n",
       "    </tr>\n",
       "  </thead>\n",
       "  <tbody>\n",
       "    <tr>\n",
       "      <th>0</th>\n",
       "      <td>Donald Trump Sends Out Embarrassing New Year’...</td>\n",
       "      <td>Donald Trump just couldn t wish all Americans ...</td>\n",
       "      <td>News</td>\n",
       "      <td>December 31, 2017</td>\n",
       "    </tr>\n",
       "    <tr>\n",
       "      <th>1</th>\n",
       "      <td>Drunk Bragging Trump Staffer Started Russian ...</td>\n",
       "      <td>House Intelligence Committee Chairman Devin Nu...</td>\n",
       "      <td>News</td>\n",
       "      <td>December 31, 2017</td>\n",
       "    </tr>\n",
       "    <tr>\n",
       "      <th>2</th>\n",
       "      <td>Sheriff David Clarke Becomes An Internet Joke...</td>\n",
       "      <td>On Friday, it was revealed that former Milwauk...</td>\n",
       "      <td>News</td>\n",
       "      <td>December 30, 2017</td>\n",
       "    </tr>\n",
       "    <tr>\n",
       "      <th>3</th>\n",
       "      <td>Trump Is So Obsessed He Even Has Obama’s Name...</td>\n",
       "      <td>On Christmas day, Donald Trump announced that ...</td>\n",
       "      <td>News</td>\n",
       "      <td>December 29, 2017</td>\n",
       "    </tr>\n",
       "    <tr>\n",
       "      <th>4</th>\n",
       "      <td>Pope Francis Just Called Out Donald Trump Dur...</td>\n",
       "      <td>Pope Francis used his annual Christmas Day mes...</td>\n",
       "      <td>News</td>\n",
       "      <td>December 25, 2017</td>\n",
       "    </tr>\n",
       "  </tbody>\n",
       "</table>\n",
       "</div>"
      ],
      "text/plain": [
       "                                               title  \\\n",
       "0   Donald Trump Sends Out Embarrassing New Year’...   \n",
       "1   Drunk Bragging Trump Staffer Started Russian ...   \n",
       "2   Sheriff David Clarke Becomes An Internet Joke...   \n",
       "3   Trump Is So Obsessed He Even Has Obama’s Name...   \n",
       "4   Pope Francis Just Called Out Donald Trump Dur...   \n",
       "\n",
       "                                                text subject  \\\n",
       "0  Donald Trump just couldn t wish all Americans ...    News   \n",
       "1  House Intelligence Committee Chairman Devin Nu...    News   \n",
       "2  On Friday, it was revealed that former Milwauk...    News   \n",
       "3  On Christmas day, Donald Trump announced that ...    News   \n",
       "4  Pope Francis used his annual Christmas Day mes...    News   \n",
       "\n",
       "                date  \n",
       "0  December 31, 2017  \n",
       "1  December 31, 2017  \n",
       "2  December 30, 2017  \n",
       "3  December 29, 2017  \n",
       "4  December 25, 2017  "
      ]
     },
     "execution_count": 14,
     "metadata": {},
     "output_type": "execute_result"
    }
   ],
   "source": [
    "fake_csv.head()"
   ]
  },
  {
   "cell_type": "code",
   "execution_count": 15,
   "id": "d51420c7",
   "metadata": {},
   "outputs": [
    {
     "data": {
      "text/html": [
       "<div>\n",
       "<style scoped>\n",
       "    .dataframe tbody tr th:only-of-type {\n",
       "        vertical-align: middle;\n",
       "    }\n",
       "\n",
       "    .dataframe tbody tr th {\n",
       "        vertical-align: top;\n",
       "    }\n",
       "\n",
       "    .dataframe thead th {\n",
       "        text-align: right;\n",
       "    }\n",
       "</style>\n",
       "<table border=\"1\" class=\"dataframe\">\n",
       "  <thead>\n",
       "    <tr style=\"text-align: right;\">\n",
       "      <th></th>\n",
       "      <th>title</th>\n",
       "      <th>text</th>\n",
       "      <th>subject</th>\n",
       "      <th>date</th>\n",
       "    </tr>\n",
       "  </thead>\n",
       "  <tbody>\n",
       "    <tr>\n",
       "      <th>0</th>\n",
       "      <td>As U.S. budget fight looms, Republicans flip t...</td>\n",
       "      <td>WASHINGTON (Reuters) - The head of a conservat...</td>\n",
       "      <td>politicsNews</td>\n",
       "      <td>December 31, 2017</td>\n",
       "    </tr>\n",
       "    <tr>\n",
       "      <th>1</th>\n",
       "      <td>U.S. military to accept transgender recruits o...</td>\n",
       "      <td>WASHINGTON (Reuters) - Transgender people will...</td>\n",
       "      <td>politicsNews</td>\n",
       "      <td>December 29, 2017</td>\n",
       "    </tr>\n",
       "    <tr>\n",
       "      <th>2</th>\n",
       "      <td>Senior U.S. Republican senator: 'Let Mr. Muell...</td>\n",
       "      <td>WASHINGTON (Reuters) - The special counsel inv...</td>\n",
       "      <td>politicsNews</td>\n",
       "      <td>December 31, 2017</td>\n",
       "    </tr>\n",
       "    <tr>\n",
       "      <th>3</th>\n",
       "      <td>FBI Russia probe helped by Australian diplomat...</td>\n",
       "      <td>WASHINGTON (Reuters) - Trump campaign adviser ...</td>\n",
       "      <td>politicsNews</td>\n",
       "      <td>December 30, 2017</td>\n",
       "    </tr>\n",
       "    <tr>\n",
       "      <th>4</th>\n",
       "      <td>Trump wants Postal Service to charge 'much mor...</td>\n",
       "      <td>SEATTLE/WASHINGTON (Reuters) - President Donal...</td>\n",
       "      <td>politicsNews</td>\n",
       "      <td>December 29, 2017</td>\n",
       "    </tr>\n",
       "  </tbody>\n",
       "</table>\n",
       "</div>"
      ],
      "text/plain": [
       "                                               title  \\\n",
       "0  As U.S. budget fight looms, Republicans flip t...   \n",
       "1  U.S. military to accept transgender recruits o...   \n",
       "2  Senior U.S. Republican senator: 'Let Mr. Muell...   \n",
       "3  FBI Russia probe helped by Australian diplomat...   \n",
       "4  Trump wants Postal Service to charge 'much mor...   \n",
       "\n",
       "                                                text       subject  \\\n",
       "0  WASHINGTON (Reuters) - The head of a conservat...  politicsNews   \n",
       "1  WASHINGTON (Reuters) - Transgender people will...  politicsNews   \n",
       "2  WASHINGTON (Reuters) - The special counsel inv...  politicsNews   \n",
       "3  WASHINGTON (Reuters) - Trump campaign adviser ...  politicsNews   \n",
       "4  SEATTLE/WASHINGTON (Reuters) - President Donal...  politicsNews   \n",
       "\n",
       "                 date  \n",
       "0  December 31, 2017   \n",
       "1  December 29, 2017   \n",
       "2  December 31, 2017   \n",
       "3  December 30, 2017   \n",
       "4  December 29, 2017   "
      ]
     },
     "execution_count": 15,
     "metadata": {},
     "output_type": "execute_result"
    }
   ],
   "source": [
    "true_csv.head()"
   ]
  },
  {
   "cell_type": "markdown",
   "id": "77e0e7f8",
   "metadata": {},
   "source": [
    "Merge title and text, add label and drop title, text, subject, date column"
   ]
  },
  {
   "cell_type": "code",
   "execution_count": 16,
   "id": "f30d7834",
   "metadata": {},
   "outputs": [
    {
     "data": {
      "text/plain": [
       "(23481, 2)"
      ]
     },
     "execution_count": 16,
     "metadata": {},
     "output_type": "execute_result"
    }
   ],
   "source": [
    "fake_csv['label'] = 1\n",
    "fake_csv['title+text'] = fake_csv['title'] + ' ' + fake_csv['text']\n",
    "fake_csv = fake_csv.drop(columns=['title', 'text', 'subject', 'date'], axis=0)\n",
    "fake_csv.shape"
   ]
  },
  {
   "cell_type": "code",
   "execution_count": 17,
   "id": "9dc213a9",
   "metadata": {},
   "outputs": [
    {
     "data": {
      "text/plain": [
       "(21417, 2)"
      ]
     },
     "execution_count": 17,
     "metadata": {},
     "output_type": "execute_result"
    }
   ],
   "source": [
    "true_csv['label'] = 0\n",
    "true_csv['title+text'] = true_csv['title'] + ' ' + true_csv['text']\n",
    "true_csv = true_csv.drop(columns=['title', 'text', 'subject', 'date'], axis=0)\n",
    "true_csv.shape"
   ]
  },
  {
   "cell_type": "markdown",
   "id": "21da83bd",
   "metadata": {},
   "source": [
    "Sampling equal numbers from face_csv and true_csv"
   ]
  },
  {
   "cell_type": "code",
   "execution_count": 18,
   "id": "01d61e4e",
   "metadata": {},
   "outputs": [],
   "source": [
    "idx = [random.randrange(true_csv.shape[0]) for _ in range(1000)]\n",
    "fake_csv_resampled = fake_csv.iloc[idx]\n",
    "true_csv_resampled = true_csv.iloc[idx]"
   ]
  },
  {
   "cell_type": "markdown",
   "id": "cc8eb5b8",
   "metadata": {},
   "source": [
    "Remove stop words and Lemmetization using spaCy"
   ]
  },
  {
   "cell_type": "code",
   "execution_count": 19,
   "id": "9e847d48",
   "metadata": {},
   "outputs": [],
   "source": [
    "# nlp = English() # Load English tokenizer, tagger, parser, NER and word vectors\n",
    "nlp = en_core_web_sm.load()\n",
    "fake_csv_resampled['title+text'].apply(nlp)\n",
    "true_csv_resampled['title+text'].apply(nlp)\n",
    "fc = fake_csv_resampled.copy()\n",
    "tc = true_csv_resampled.copy()\n"
   ]
  },
  {
   "cell_type": "code",
   "execution_count": 20,
   "id": "2e79cd7f",
   "metadata": {},
   "outputs": [],
   "source": [
    "# fc['token_list'] = fc['title+text'].str.split()\n",
    "# tc['token_list'] = tc['title+text'].str.split()\n",
    "# fc['token_list']"
   ]
  },
  {
   "cell_type": "code",
   "execution_count": 21,
   "id": "0284d523",
   "metadata": {},
   "outputs": [],
   "source": [
    "# fc['vocab'] = fc['token_list'].apply(lambda words: [nlp.vocab[word] for word in words])\n",
    "# tc['vocab'] = tc['token_list'].apply(lambda words: [nlp.vocab[word] for word in words])\n",
    "# tc['vocab']"
   ]
  },
  {
   "cell_type": "code",
   "execution_count": 22,
   "id": "8a951ba2",
   "metadata": {},
   "outputs": [
    {
     "data": {
      "text/plain": [
       "18723    [TRUMP, DELIVERS, BARN, BURNER, speech, :, \", ...\n",
       "1067     [ , come, Cory, Booker, Pals, ', Field, trip, ...\n",
       "14053    [obama, BRITAIN, Legacy, :, save, World, Econo...\n",
       "15812    [[, video, ], watch, marco, rubio, Handles, re...\n",
       "18942    [disturb, :, Tomi, Lahren, Panders, \", View, \"...\n",
       "                               ...                        \n",
       "37       [ , Donald, Trump, Eating, habit, dramatically...\n",
       "12230    [JILL, STEIN, Claims, Recount, possible, Forei...\n",
       "8251     [ , state, let, gun, right, People, think, thi...\n",
       "19081    [MAJOR, COSMETIC, Company, announce, plan, rel...\n",
       "19067    [illegal, alien, protester, yell, Police, shut...\n",
       "Name: filtered_words, Length: 1000, dtype: object"
      ]
     },
     "execution_count": 22,
     "metadata": {},
     "output_type": "execute_result"
    }
   ],
   "source": [
    "fc['filtered_words'] = fc['title+text'].apply(lambda vocabs: [vocab.lemma_ for vocab in nlp(vocabs) if not vocab.is_stop])\n",
    "tc['filtered_words'] = tc['title+text'].apply(lambda vocabs: [vocab.lemma_ for vocab in nlp(vocabs) if not vocab.is_stop])\n",
    "fc['filtered_words']"
   ]
  },
  {
   "cell_type": "markdown",
   "id": "9ef4ab65",
   "metadata": {},
   "source": [
    "Removing Non-alphanumeric characters"
   ]
  },
  {
   "cell_type": "code",
   "execution_count": 23,
   "id": "0d5b4acf",
   "metadata": {},
   "outputs": [
    {
     "data": {
      "text/plain": [
       "18723    [migrant, smuggling, crackdown, trigger, clash...\n",
       "1067     [Schumer, cite, untruth, Trump, Republicans, t...\n",
       "14053    [urge, Australia, protect, refugee, Papua, New...\n",
       "15812    [Russia, tell, unacceptable, politicize, chemi...\n",
       "18942    [thai, PM, Yingluck, get, year, jail, term, ne...\n",
       "                               ...                        \n",
       "37       [factbox, big, ticket, item, center, Congress,...\n",
       "12230    [Russia, Egypt, talk, resumption, date, russia...\n",
       "8251     [invoke, religion, disciplined, Trump, speak, ...\n",
       "19081    [alliance, say, russian, jet, strike, fighter,...\n",
       "19067    [turnout, high, iraqi, Kurds, defy, threat, ho...\n",
       "Name: cleaned_lemmas, Length: 1000, dtype: object"
      ]
     },
     "execution_count": 23,
     "metadata": {},
     "output_type": "execute_result"
    }
   ],
   "source": [
    "fc['cleaned_lemmas'] = fc['filtered_words'].apply(lambda word_list:[word for word in word_list if word.isalpha()])\n",
    "tc['cleaned_lemmas'] = tc['filtered_words'].apply(lambda word_list:[word for word in word_list if word.isalpha()])\n",
    "tc['cleaned_lemmas']"
   ]
  },
  {
   "cell_type": "code",
   "execution_count": 36,
   "id": "1f99c98a",
   "metadata": {},
   "outputs": [
    {
     "data": {
      "text/html": [
       "<div>\n",
       "<style scoped>\n",
       "    .dataframe tbody tr th:only-of-type {\n",
       "        vertical-align: middle;\n",
       "    }\n",
       "\n",
       "    .dataframe tbody tr th {\n",
       "        vertical-align: top;\n",
       "    }\n",
       "\n",
       "    .dataframe thead th {\n",
       "        text-align: right;\n",
       "    }\n",
       "</style>\n",
       "<table border=\"1\" class=\"dataframe\">\n",
       "  <thead>\n",
       "    <tr style=\"text-align: right;\">\n",
       "      <th></th>\n",
       "      <th>label</th>\n",
       "      <th>text</th>\n",
       "    </tr>\n",
       "  </thead>\n",
       "  <tbody>\n",
       "    <tr>\n",
       "      <th>18723</th>\n",
       "      <td>1</td>\n",
       "      <td>TRUMP DELIVERS BARN BURNER speech media outlet...</td>\n",
       "    </tr>\n",
       "    <tr>\n",
       "      <th>1067</th>\n",
       "      <td>1</td>\n",
       "      <td>come Cory Booker Pals Field trip find Super Se...</td>\n",
       "    </tr>\n",
       "    <tr>\n",
       "      <th>14053</th>\n",
       "      <td>1</td>\n",
       "      <td>obama BRITAIN Legacy save World Economy Deal I...</td>\n",
       "    </tr>\n",
       "    <tr>\n",
       "      <th>15812</th>\n",
       "      <td>1</td>\n",
       "      <td>video watch marco rubio Handles reporter Attem...</td>\n",
       "    </tr>\n",
       "    <tr>\n",
       "      <th>18942</th>\n",
       "      <td>1</td>\n",
       "      <td>disturb Tomi Lahren Panders View Hags say Pro ...</td>\n",
       "    </tr>\n",
       "  </tbody>\n",
       "</table>\n",
       "</div>"
      ],
      "text/plain": [
       "       label                                               text\n",
       "18723      1  TRUMP DELIVERS BARN BURNER speech media outlet...\n",
       "1067       1  come Cory Booker Pals Field trip find Super Se...\n",
       "14053      1  obama BRITAIN Legacy save World Economy Deal I...\n",
       "15812      1  video watch marco rubio Handles reporter Attem...\n",
       "18942      1  disturb Tomi Lahren Panders View Hags say Pro ..."
      ]
     },
     "execution_count": 36,
     "metadata": {},
     "output_type": "execute_result"
    }
   ],
   "source": [
    "df = pd.concat([fc,tc], axis=0)\n",
    "df['text'] = df['cleaned_lemmas'].str.join(' ')\n",
    "df = df.drop(columns=['title+text', 'filtered_words', 'cleaned_lemmas'])\n",
    "df.head()"
   ]
  },
  {
   "cell_type": "markdown",
   "id": "445b7e42",
   "metadata": {},
   "source": [
    "Feature Selection and split the data into test-train sets"
   ]
  },
  {
   "cell_type": "code",
   "execution_count": 38,
   "id": "8fc7bbcc",
   "metadata": {},
   "outputs": [],
   "source": [
    "X = df['text']\n",
    "y = df['label']\n"
   ]
  },
  {
   "cell_type": "code",
   "execution_count": 39,
   "id": "1012bbbc",
   "metadata": {},
   "outputs": [],
   "source": [
    "X_train, X_test, y_train, y_test = train_test_split(X,y, test_size=0.2, random_state=42)"
   ]
  },
  {
   "cell_type": "markdown",
   "id": "a0469f82",
   "metadata": {},
   "source": [
    "Pipeine with TfidVectorizer and selection of Model"
   ]
  },
  {
   "cell_type": "code",
   "execution_count": 40,
   "id": "86459573",
   "metadata": {},
   "outputs": [
    {
     "data": {
      "text/html": [
       "<style>#sk-container-id-1 {color: black;}#sk-container-id-1 pre{padding: 0;}#sk-container-id-1 div.sk-toggleable {background-color: white;}#sk-container-id-1 label.sk-toggleable__label {cursor: pointer;display: block;width: 100%;margin-bottom: 0;padding: 0.3em;box-sizing: border-box;text-align: center;}#sk-container-id-1 label.sk-toggleable__label-arrow:before {content: \"▸\";float: left;margin-right: 0.25em;color: #696969;}#sk-container-id-1 label.sk-toggleable__label-arrow:hover:before {color: black;}#sk-container-id-1 div.sk-estimator:hover label.sk-toggleable__label-arrow:before {color: black;}#sk-container-id-1 div.sk-toggleable__content {max-height: 0;max-width: 0;overflow: hidden;text-align: left;background-color: #f0f8ff;}#sk-container-id-1 div.sk-toggleable__content pre {margin: 0.2em;color: black;border-radius: 0.25em;background-color: #f0f8ff;}#sk-container-id-1 input.sk-toggleable__control:checked~div.sk-toggleable__content {max-height: 200px;max-width: 100%;overflow: auto;}#sk-container-id-1 input.sk-toggleable__control:checked~label.sk-toggleable__label-arrow:before {content: \"▾\";}#sk-container-id-1 div.sk-estimator input.sk-toggleable__control:checked~label.sk-toggleable__label {background-color: #d4ebff;}#sk-container-id-1 div.sk-label input.sk-toggleable__control:checked~label.sk-toggleable__label {background-color: #d4ebff;}#sk-container-id-1 input.sk-hidden--visually {border: 0;clip: rect(1px 1px 1px 1px);clip: rect(1px, 1px, 1px, 1px);height: 1px;margin: -1px;overflow: hidden;padding: 0;position: absolute;width: 1px;}#sk-container-id-1 div.sk-estimator {font-family: monospace;background-color: #f0f8ff;border: 1px dotted black;border-radius: 0.25em;box-sizing: border-box;margin-bottom: 0.5em;}#sk-container-id-1 div.sk-estimator:hover {background-color: #d4ebff;}#sk-container-id-1 div.sk-parallel-item::after {content: \"\";width: 100%;border-bottom: 1px solid gray;flex-grow: 1;}#sk-container-id-1 div.sk-label:hover label.sk-toggleable__label {background-color: #d4ebff;}#sk-container-id-1 div.sk-serial::before {content: \"\";position: absolute;border-left: 1px solid gray;box-sizing: border-box;top: 0;bottom: 0;left: 50%;z-index: 0;}#sk-container-id-1 div.sk-serial {display: flex;flex-direction: column;align-items: center;background-color: white;padding-right: 0.2em;padding-left: 0.2em;position: relative;}#sk-container-id-1 div.sk-item {position: relative;z-index: 1;}#sk-container-id-1 div.sk-parallel {display: flex;align-items: stretch;justify-content: center;background-color: white;position: relative;}#sk-container-id-1 div.sk-item::before, #sk-container-id-1 div.sk-parallel-item::before {content: \"\";position: absolute;border-left: 1px solid gray;box-sizing: border-box;top: 0;bottom: 0;left: 50%;z-index: -1;}#sk-container-id-1 div.sk-parallel-item {display: flex;flex-direction: column;z-index: 1;position: relative;background-color: white;}#sk-container-id-1 div.sk-parallel-item:first-child::after {align-self: flex-end;width: 50%;}#sk-container-id-1 div.sk-parallel-item:last-child::after {align-self: flex-start;width: 50%;}#sk-container-id-1 div.sk-parallel-item:only-child::after {width: 0;}#sk-container-id-1 div.sk-dashed-wrapped {border: 1px dashed gray;margin: 0 0.4em 0.5em 0.4em;box-sizing: border-box;padding-bottom: 0.4em;background-color: white;}#sk-container-id-1 div.sk-label label {font-family: monospace;font-weight: bold;display: inline-block;line-height: 1.2em;}#sk-container-id-1 div.sk-label-container {text-align: center;}#sk-container-id-1 div.sk-container {/* jupyter's `normalize.less` sets `[hidden] { display: none; }` but bootstrap.min.css set `[hidden] { display: none !important; }` so we also need the `!important` here to be able to override the default hidden behavior on the sphinx rendered scikit-learn.org. See: https://github.com/scikit-learn/scikit-learn/issues/21755 */display: inline-block !important;position: relative;}#sk-container-id-1 div.sk-text-repr-fallback {display: none;}</style><div id=\"sk-container-id-1\" class=\"sk-top-container\"><div class=\"sk-text-repr-fallback\"><pre>Pipeline(steps=[(&#x27;vectorizer_tfidf&#x27;, TfidfVectorizer()),\n",
       "                (&#x27;random_forest&#x27;,\n",
       "                 RandomForestClassifier(n_jobs=-1, random_state=42))])</pre><b>In a Jupyter environment, please rerun this cell to show the HTML representation or trust the notebook. <br />On GitHub, the HTML representation is unable to render, please try loading this page with nbviewer.org.</b></div><div class=\"sk-container\" hidden><div class=\"sk-item sk-dashed-wrapped\"><div class=\"sk-label-container\"><div class=\"sk-label sk-toggleable\"><input class=\"sk-toggleable__control sk-hidden--visually\" id=\"sk-estimator-id-1\" type=\"checkbox\" ><label for=\"sk-estimator-id-1\" class=\"sk-toggleable__label sk-toggleable__label-arrow\">Pipeline</label><div class=\"sk-toggleable__content\"><pre>Pipeline(steps=[(&#x27;vectorizer_tfidf&#x27;, TfidfVectorizer()),\n",
       "                (&#x27;random_forest&#x27;,\n",
       "                 RandomForestClassifier(n_jobs=-1, random_state=42))])</pre></div></div></div><div class=\"sk-serial\"><div class=\"sk-item\"><div class=\"sk-estimator sk-toggleable\"><input class=\"sk-toggleable__control sk-hidden--visually\" id=\"sk-estimator-id-2\" type=\"checkbox\" ><label for=\"sk-estimator-id-2\" class=\"sk-toggleable__label sk-toggleable__label-arrow\">TfidfVectorizer</label><div class=\"sk-toggleable__content\"><pre>TfidfVectorizer()</pre></div></div></div><div class=\"sk-item\"><div class=\"sk-estimator sk-toggleable\"><input class=\"sk-toggleable__control sk-hidden--visually\" id=\"sk-estimator-id-3\" type=\"checkbox\" ><label for=\"sk-estimator-id-3\" class=\"sk-toggleable__label sk-toggleable__label-arrow\">RandomForestClassifier</label><div class=\"sk-toggleable__content\"><pre>RandomForestClassifier(n_jobs=-1, random_state=42)</pre></div></div></div></div></div></div></div>"
      ],
      "text/plain": [
       "Pipeline(steps=[('vectorizer_tfidf', TfidfVectorizer()),\n",
       "                ('random_forest',\n",
       "                 RandomForestClassifier(n_jobs=-1, random_state=42))])"
      ]
     },
     "execution_count": 40,
     "metadata": {},
     "output_type": "execute_result"
    }
   ],
   "source": [
    "classifier = Pipeline([\n",
    "    (\"vectorizer_tfidf\", TfidfVectorizer()),\n",
    "    (\"random_forest\", RandomForestClassifier(n_jobs=-1, random_state=42))\n",
    "])\n",
    "classifier.fit(X_train,y_train)\n"
   ]
  },
  {
   "cell_type": "code",
   "execution_count": 42,
   "id": "4f4b54ed",
   "metadata": {},
   "outputs": [
    {
     "data": {
      "text/plain": [
       "98.5"
      ]
     },
     "execution_count": 42,
     "metadata": {},
     "output_type": "execute_result"
    }
   ],
   "source": [
    "accuracy = classifier.score(X_test, y_test) * 100\n",
    "accuracy"
   ]
  },
  {
   "cell_type": "code",
   "execution_count": 44,
   "id": "2de593c4",
   "metadata": {},
   "outputs": [
    {
     "data": {
      "text/plain": [
       "'              precision    recall  f1-score   support\\n\\n           0       0.98      1.00      0.99       201\\n           1       0.99      0.97      0.98       199\\n\\n    accuracy                           0.98       400\\n   macro avg       0.99      0.98      0.98       400\\nweighted avg       0.99      0.98      0.98       400\\n'"
      ]
     },
     "execution_count": 44,
     "metadata": {},
     "output_type": "execute_result"
    }
   ],
   "source": [
    "pred = classifier.predict(X_test)\n",
    "classification_report(y_test, pred)"
   ]
  },
  {
   "cell_type": "code",
   "execution_count": null,
   "id": "b2190d6a",
   "metadata": {},
   "outputs": [],
   "source": []
  }
 ],
 "metadata": {
  "kernelspec": {
   "display_name": "venv",
   "language": "python",
   "name": "python3"
  },
  "language_info": {
   "codemirror_mode": {
    "name": "ipython",
    "version": 3
   },
   "file_extension": ".py",
   "mimetype": "text/x-python",
   "name": "python",
   "nbconvert_exporter": "python",
   "pygments_lexer": "ipython3",
   "version": "3.8.10"
  }
 },
 "nbformat": 4,
 "nbformat_minor": 5
}
